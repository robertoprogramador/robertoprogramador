{
 "cells": [
  {
   "cell_type": "code",
   "execution_count": 1,
   "id": "b4db69eb",
   "metadata": {},
   "outputs": [],
   "source": [
    "#incluindo salarios no dia da lista"
   ]
  },
  {
   "cell_type": "code",
   "execution_count": 2,
   "id": "d94c7dc8",
   "metadata": {},
   "outputs": [],
   "source": [
    "listatrader=[0,0,6,0,0,0,0,0,0,0,0,0,0,0,0,0,0,0,0,0,0,0,0,0,0,0,0,0,0,0,0,0,0]"
   ]
  },
  {
   "cell_type": "code",
   "execution_count": 3,
   "id": "1a4320ce",
   "metadata": {},
   "outputs": [
    {
     "name": "stdout",
     "output_type": "stream",
     "text": [
      "digite o dia que quer consultartrade7\n",
      "7\n"
     ]
    },
    {
     "data": {
      "text/plain": [
       "0"
      ]
     },
     "execution_count": 3,
     "metadata": {},
     "output_type": "execute_result"
    }
   ],
   "source": [
    "x=int(input(\"digite o dia que quer consultartrade\"))\n",
    "print(x)\n",
    "listatrader[x-1]"
   ]
  },
  {
   "cell_type": "code",
   "execution_count": 4,
   "id": "95e34a4e",
   "metadata": {},
   "outputs": [
    {
     "name": "stdout",
     "output_type": "stream",
     "text": [
      "digite o dia que quer incluirtrade7\n",
      "digite o valor que quer incluirtrade98\n",
      "7 98\n"
     ]
    },
    {
     "data": {
      "text/plain": [
       "98"
      ]
     },
     "execution_count": 4,
     "metadata": {},
     "output_type": "execute_result"
    }
   ],
   "source": [
    "x=int(input(\"digite o dia que quer incluirtrade\"))\n",
    "b=int(input(\"digite o valor que quer incluirtrade\"))\n",
    "listatrader.insert(x-1, b)\n",
    "print(x,b)\n",
    "listatrader[x-1]"
   ]
  },
  {
   "cell_type": "code",
   "execution_count": 5,
   "id": "eda885aa",
   "metadata": {},
   "outputs": [
    {
     "data": {
      "text/plain": [
       "[0,\n",
       " 0,\n",
       " 6,\n",
       " 0,\n",
       " 0,\n",
       " 0,\n",
       " 98,\n",
       " 0,\n",
       " 0,\n",
       " 0,\n",
       " 0,\n",
       " 0,\n",
       " 0,\n",
       " 0,\n",
       " 0,\n",
       " 0,\n",
       " 0,\n",
       " 0,\n",
       " 0,\n",
       " 0,\n",
       " 0,\n",
       " 0,\n",
       " 0,\n",
       " 0,\n",
       " 0,\n",
       " 0,\n",
       " 0,\n",
       " 0,\n",
       " 0,\n",
       " 0,\n",
       " 0,\n",
       " 0,\n",
       " 0,\n",
       " 0]"
      ]
     },
     "execution_count": 5,
     "metadata": {},
     "output_type": "execute_result"
    }
   ],
   "source": [
    "listatrader\n"
   ]
  },
  {
   "cell_type": "code",
   "execution_count": null,
   "id": "a32c4975",
   "metadata": {},
   "outputs": [],
   "source": []
  },
  {
   "cell_type": "code",
   "execution_count": null,
   "id": "5d26ffc3",
   "metadata": {},
   "outputs": [],
   "source": []
  }
 ],
 "metadata": {
  "kernelspec": {
   "display_name": "Python 3 (ipykernel)",
   "language": "python",
   "name": "python3"
  },
  "language_info": {
   "codemirror_mode": {
    "name": "ipython",
    "version": 3
   },
   "file_extension": ".py",
   "mimetype": "text/x-python",
   "name": "python",
   "nbconvert_exporter": "python",
   "pygments_lexer": "ipython3",
   "version": "3.9.7"
  }
 },
 "nbformat": 4,
 "nbformat_minor": 5
}
